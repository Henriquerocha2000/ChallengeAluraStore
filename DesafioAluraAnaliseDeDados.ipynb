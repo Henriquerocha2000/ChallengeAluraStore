{
  "nbformat": 4,
  "nbformat_minor": 0,
  "metadata": {
    "colab": {
      "provenance": []
    },
    "kernelspec": {
      "name": "python3",
      "display_name": "Python 3"
    },
    "language_info": {
      "name": "python"
    }
  },
  "cells": [
    {
      "cell_type": "markdown",
      "source": [
        "### Importação dos dados\n",
        "\n"
      ],
      "metadata": {
        "id": "RhEdWd9YUR6H"
      }
    },
    {
      "cell_type": "code",
      "execution_count": 3,
      "metadata": {
        "id": "T3EvaeQ_INIL"
      },
      "outputs": [],
      "source": [
        "import pandas as pd\n",
        "\n",
        "url = \"https://raw.githubusercontent.com/alura-es-cursos/challenge1-data-science/refs/heads/main/base-de-dados-challenge-1/loja_1.csv\"\n",
        "url2 = \"https://raw.githubusercontent.com/alura-es-cursos/challenge1-data-science/refs/heads/main/base-de-dados-challenge-1/loja_2.csv\"\n",
        "url3 = \"https://raw.githubusercontent.com/alura-es-cursos/challenge1-data-science/refs/heads/main/base-de-dados-challenge-1/loja_3.csv\"\n",
        "url4 = \"https://raw.githubusercontent.com/alura-es-cursos/challenge1-data-science/refs/heads/main/base-de-dados-challenge-1/loja_4.csv\"\n",
        "\n",
        "loja = pd.read_csv(url)\n",
        "loja2 = pd.read_csv(url2)\n",
        "loja3 = pd.read_csv(url3)\n",
        "loja4 = pd.read_csv(url4)\n"
      ]
    },
    {
      "cell_type": "markdown",
      "source": [
        "#1. Análise do faturamento\n"
      ],
      "metadata": {
        "id": "X62IW3KFUIYm"
      }
    },
    {
      "cell_type": "code",
      "source": [
        "import matplotlib.pyplot as plt\n",
        "\n",
        "lojas = ['Loja1', 'Loja2', 'Loja3', 'Loaja4']\n",
        "faturamento = []\n",
        "faturamento.append(round(float(loja['Preço'].sum()), 2))\n",
        "faturamento.append(round(float(loja2['Preço'].sum()), 2))\n",
        "faturamento.append(round(float(loja3['Preço'].sum()), 2))\n",
        "faturamento.append(round(float(loja4['Preço'].sum()), 2))\n",
        "faturamento_lojas = tuple(zip(lojas, faturamento))\n"
      ],
      "metadata": {
        "id": "xykobSftV64I"
      },
      "execution_count": 4,
      "outputs": []
    },
    {
      "cell_type": "markdown",
      "source": [
        "Ordenar do maior faturamento para o menor"
      ],
      "metadata": {
        "id": "qGbtvh4yvyF7"
      }
    },
    {
      "cell_type": "code",
      "source": [
        "ordem_faturamento = sorted(faturamento_lojas, key=lambda x: x[1], reverse=True)\n",
        "print(ordem_faturamento)"
      ],
      "metadata": {
        "id": "KDyr8E71V3m-",
        "colab": {
          "base_uri": "https://localhost:8080/"
        },
        "outputId": "10b0c7d2-5097-443a-9af9-a16072599866"
      },
      "execution_count": 5,
      "outputs": [
        {
          "output_type": "stream",
          "name": "stdout",
          "text": [
            "[('Loja1', 1534509.12), ('Loja2', 1488459.06), ('Loja3', 1464025.03), ('Loaja4', 1384497.58)]\n"
          ]
        }
      ]
    },
    {
      "cell_type": "markdown",
      "source": [
        "# 2. Vendas por Categoria\n"
      ],
      "metadata": {
        "id": "2V_vcAPzWZmR"
      }
    },
    {
      "cell_type": "code",
      "source": [
        "from collections import Counter\n",
        "#a classe Counter da biblioteca colletions, vai contar quantas vezes cada elemento aparece em uma lista, tupla, etc\n",
        "categorias_loja1 = Counter(loja['Categoria do Produto'])\n",
        "categorias_loja2 = Counter(loja2['Categoria do Produto'])\n",
        "categorias_loja3 = Counter(loja3['Categoria do Produto'])\n",
        "categorias_loja4 = Counter(loja4['Categoria do Produto'])"
      ],
      "metadata": {
        "id": "A34YupIuYhfF"
      },
      "execution_count": 6,
      "outputs": []
    },
    {
      "cell_type": "markdown",
      "source": [
        "Ordenar da categoria mais vendida para a menos vendida.\n"
      ],
      "metadata": {
        "id": "KCXIF-astHyO"
      }
    },
    {
      "cell_type": "code",
      "source": [
        "#\n",
        "ordem_categoria_vendida1 = categorias_loja1.most_common()\n",
        "ordem_categoria_vendida2 = categorias_loja2.most_common()\n",
        "ordem_categoria_vendida3 = categorias_loja3.most_common()\n",
        "ordem_categoria_vendida4 = categorias_loja4.most_common()"
      ],
      "metadata": {
        "id": "yZR6cOjXYSk1"
      },
      "execution_count": 8,
      "outputs": []
    },
    {
      "cell_type": "markdown",
      "source": [
        "# 3. Média de Avaliação das Lojas"
      ],
      "metadata": {
        "id": "Rq6tU_xSY3jk"
      }
    },
    {
      "cell_type": "code",
      "source": [],
      "metadata": {
        "id": "bh3jjjJwY5MU"
      },
      "execution_count": null,
      "outputs": []
    },
    {
      "cell_type": "code",
      "source": [],
      "metadata": {
        "id": "I0KkjPoTY88F"
      },
      "execution_count": null,
      "outputs": []
    },
    {
      "cell_type": "markdown",
      "source": [
        "# 4. Produtos Mais e Menos Vendidos"
      ],
      "metadata": {
        "id": "DmNp1KPBZCm-"
      }
    },
    {
      "cell_type": "code",
      "source": [],
      "metadata": {
        "id": "qoyjqijQZHfF"
      },
      "execution_count": null,
      "outputs": []
    },
    {
      "cell_type": "code",
      "source": [],
      "metadata": {
        "id": "0Sw3sd4IZIGW"
      },
      "execution_count": null,
      "outputs": []
    },
    {
      "cell_type": "markdown",
      "source": [
        "# 5. Frete Médio por Loja\n"
      ],
      "metadata": {
        "id": "Fl0cGi3bZKqU"
      }
    },
    {
      "cell_type": "code",
      "source": [],
      "metadata": {
        "id": "S2JeaCykZNy9"
      },
      "execution_count": null,
      "outputs": []
    },
    {
      "cell_type": "code",
      "source": [],
      "metadata": {
        "id": "0tSdCie9ZQlt"
      },
      "execution_count": null,
      "outputs": []
    }
  ]
}